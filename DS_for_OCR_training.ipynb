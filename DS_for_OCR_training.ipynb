{
  "nbformat": 4,
  "nbformat_minor": 0,
  "metadata": {
    "colab": {
      "name": "DS for OCR training.ipynb",
      "provenance": [],
      "collapsed_sections": [],
      "authorship_tag": "ABX9TyPjcUIODjLABcxkUILLlSzV",
      "include_colab_link": true
    },
    "kernelspec": {
      "name": "python3",
      "display_name": "Python 3"
    }
  },
  "cells": [
    {
      "cell_type": "markdown",
      "metadata": {
        "id": "view-in-github",
        "colab_type": "text"
      },
      "source": [
        "<a href=\"https://colab.research.google.com/github/MajdTaweel/cv-project-2/blob/main/DS_for_OCR_training.ipynb\" target=\"_parent\"><img src=\"https://colab.research.google.com/assets/colab-badge.svg\" alt=\"Open In Colab\"/></a>"
      ]
    },
    {
      "cell_type": "code",
      "metadata": {
        "colab": {
          "base_uri": "https://localhost:8080/"
        },
        "id": "rqAjdcZovQI3",
        "outputId": "c0cf932e-2bc1-47d8-f3d8-aec594961871"
      },
      "source": [
        "!pip install opencv-python"
      ],
      "execution_count": 2,
      "outputs": [
        {
          "output_type": "stream",
          "text": [
            "Requirement already satisfied: opencv-python in /usr/local/lib/python3.6/dist-packages (4.1.2.30)\n",
            "Requirement already satisfied: numpy>=1.11.3 in /usr/local/lib/python3.6/dist-packages (from opencv-python) (1.19.5)\n"
          ],
          "name": "stdout"
        }
      ]
    },
    {
      "cell_type": "code",
      "metadata": {
        "id": "eBGyKv3ZxLPC"
      },
      "source": [
        "!mkdir platesPre"
      ],
      "execution_count": 3,
      "outputs": []
    },
    {
      "cell_type": "code",
      "metadata": {
        "colab": {
          "base_uri": "https://localhost:8080/"
        },
        "id": "ztFezu03UBmS",
        "outputId": "970f49f2-5e8e-4a1b-ac9a-fc4583df338f"
      },
      "source": [
        "from google.colab import drive, files\n",
        "drive.mount('/content/drive')\n",
        "!rm -r /content/platesOnly\n",
        "!cp -r \"/content/drive/My Drive/CV Project2/platesOnly\" /content\n",
        "!cp -r \"/content/drive/My Drive/CV Project2/PalestinePlateDataSet/annotations\" /content\n",
        "!cp -r \"/content/drive/My Drive/CV Project2/PalestinePlateDataSet/skipped_images.txt\" /content\n",
        "drive.flush_and_unmount()"
      ],
      "execution_count": 1,
      "outputs": [
        {
          "output_type": "stream",
          "text": [
            "Mounted at /content/drive\n",
            "rm: cannot remove '/content/platesOnly': No such file or directory\n"
          ],
          "name": "stdout"
        }
      ]
    },
    {
      "cell_type": "code",
      "metadata": {
        "id": "v7VpvYyLgiZR",
        "colab": {
          "base_uri": "https://localhost:8080/"
        },
        "outputId": "a27a4227-a4c9-45ef-bf77-0ca2814efd07"
      },
      "source": [
        "import os, random\n",
        "import cv2 as cv\n",
        "import numpy as np\n",
        "\n",
        "filenames = os.listdir('platesOnly')\n",
        "\n",
        "i = 0\n",
        "for plateImg in filenames:\n",
        "    if i == 10:\n",
        "        i = 0\n",
        "        break\n",
        "    i += 1\n",
        "    print(i)\n",
        "    \n",
        "    print(plateImg)\n",
        "    annotationName = plateImg.split(\"-\")[0] + '.txt' #anotation name\n",
        "    print(annotationName)\n",
        "    with open(f'annotations/{annotationName}', 'r') as f:\n",
        "        lines = f.readlines()\n",
        "        plateNumber = lines[0].strip()\n",
        "    print(plateNumber)\n",
        "\n",
        "    img = cv.imread(f'platesOnly/{plateImg}',0)\n",
        "    # img = cv.medianBlur(img,3)\n",
        "    img = cv.GaussianBlur(img,(3,3),0)\n",
        "    ret3,image = cv.threshold(img,0,255,cv.THRESH_BINARY+cv.THRESH_OTSU)\n",
        "\n",
        "    # image = cv.Canny(image, 10, 20)\n",
        "\n",
        "    coords = np.column_stack(np.where(image > 0))\n",
        "    angle = cv.minAreaRect(coords)[-1]\n",
        "    if angle < -45:\n",
        "      angle = -(90 + angle)\n",
        "    else:\n",
        "      angle = -angle\n",
        "    (h, w) = image.shape[:2]\n",
        "    center = (w // 2, h // 2)\n",
        "    M = cv.getRotationMatrix2D(center, angle, 1.0)\n",
        "    rotated = cv.warpAffine(image, M, (w, h), flags=cv.INTER_CUBIC, borderMode=cv.BORDER_REPLICATE)\n",
        "\n",
        "\n",
        "    nzCount = np.count_nonzero(rotated)\n",
        "    print(nzCount)\n",
        "\n",
        "    cv.imwrite(f'platesPre/{plateNumber}.jpg', rotated)\n",
        "  "
      ],
      "execution_count": 37,
      "outputs": [
        {
          "output_type": "stream",
          "text": [
            "1\n",
            "img01629-plate-1.jpg\n",
            "img01629.txt\n",
            "6069396\n",
            "599\n",
            "2\n",
            "img01144-plate-1.jpg\n",
            "img01144.txt\n",
            "6104090\n",
            "1569\n",
            "3\n",
            "img00565-plate-1.jpg\n",
            "img00565.txt\n",
            "6584990\n",
            "1074\n",
            "4\n",
            "img01635-plate-2.jpg\n",
            "img01635.txt\n",
            "5115249\n",
            "1033\n",
            "5\n",
            "img00942-plate-1.jpg\n",
            "img00942.txt\n",
            "6541694\n",
            "1343\n",
            "6\n",
            "img00282-plate-1.jpg\n",
            "img00282.txt\n",
            "7160593\n",
            "338\n",
            "7\n",
            "img00685-plate-1.jpg\n",
            "img00685.txt\n",
            "12273H\n",
            "588\n",
            "8\n",
            "img00627-plate-1.jpg\n",
            "img00627.txt\n",
            "6047890\n",
            "566\n",
            "9\n",
            "img01036-plate-1.jpg\n",
            "img01036.txt\n",
            "6049330\n",
            "1773\n",
            "10\n",
            "img00586-plate-1.jpg\n",
            "img00586.txt\n",
            "6323430\n",
            "1654\n"
          ],
          "name": "stdout"
        }
      ]
    },
    {
      "cell_type": "code",
      "metadata": {
        "id": "mAST7ncvysKq"
      },
      "source": [
        ""
      ],
      "execution_count": null,
      "outputs": []
    }
  ]
}