{
  "nbformat": 4,
  "nbformat_minor": 0,
  "metadata": {
    "colab": {
      "name": "DS for OCR training.ipynb",
      "provenance": [],
      "collapsed_sections": [],
      "authorship_tag": "ABX9TyNwFZrSLl9o/dhpJejsYES2",
      "include_colab_link": true
    },
    "kernelspec": {
      "name": "python3",
      "display_name": "Python 3"
    }
  },
  "cells": [
    {
      "cell_type": "markdown",
      "metadata": {
        "id": "view-in-github",
        "colab_type": "text"
      },
      "source": [
        "<a href=\"https://colab.research.google.com/github/MajdTaweel/cv-project-2/blob/main/DS_for_OCR_training.ipynb\" target=\"_parent\"><img src=\"https://colab.research.google.com/assets/colab-badge.svg\" alt=\"Open In Colab\"/></a>"
      ]
    },
    {
      "cell_type": "code",
      "metadata": {
        "id": "rqAjdcZovQI3"
      },
      "source": [
        "!pip install opencv-python"
      ],
      "execution_count": null,
      "outputs": []
    },
    {
      "cell_type": "code",
      "metadata": {
        "id": "eBGyKv3ZxLPC"
      },
      "source": [
        "!mkdir platesNumbers"
      ],
      "execution_count": 2,
      "outputs": []
    },
    {
      "cell_type": "code",
      "metadata": {
        "id": "ztFezu03UBmS"
      },
      "source": [
        "from google.colab import drive, files\n",
        "drive.mount('/content/drive')\n",
        "!rm -r /content/platesOnly\n",
        "!cp -r \"/content/drive/My Drive/CV Project2/platesOnly\" /content\n",
        "!cp -r \"/content/drive/My Drive/CV Project2/PalestinePlateDataSet/annotations\" /content\n",
        "!cp -r \"/content/drive/My Drive/CV Project2/PalestinePlateDataSet/skipped_images.txt\" /content\n",
        "drive.flush_and_unmount()"
      ],
      "execution_count": null,
      "outputs": []
    },
    {
      "cell_type": "code",
      "metadata": {
        "id": "v7VpvYyLgiZR"
      },
      "source": [
        "import os, random\n",
        "import cv2 as cv\n",
        "import numpy as np\n",
        "\n",
        "filenames = os.listdir('platesOnly')\n",
        "\n",
        "i = 0\n",
        "for plateImg in filenames:\n",
        "    # if i == 10:\n",
        "    #     i = 0\n",
        "    #     break\n",
        "    i += 1\n",
        "    print(i)\n",
        "\n",
        "    if plateImg.endswith(\".jpg\"): \n",
        "      print(plateImg)\n",
        "      annotationName = plateImg.split(\"-\")[0] + '.txt' #anotation name\n",
        "      print(annotationName)\n",
        "\n",
        "      try:\n",
        "        with open(f'annotations/{annotationName}', 'r') as f:\n",
        "            lines = f.readlines()\n",
        "            plateNumber = lines[0].strip()\n",
        "        print(plateNumber)\n",
        "      except:\n",
        "        continue\n",
        "\n",
        "      img = cv.imread(f'platesOnly/{plateImg}')\n",
        "      # img = cv.medianBlur(img,3)\n",
        "      \n",
        "      # img = cv.GaussianBlur(img,(3,3),0)\n",
        "      # ret3,image = cv.threshold(img,0,255,cv.THRESH_BINARY+cv.THRESH_OTSU)\n",
        "\n",
        "      # image = cv.Canny(image, 10, 20)\n",
        "\n",
        "      # coords = np.column_stack(np.where(image > 0))\n",
        "      # angle = cv.minAreaRect(coords)[-1]\n",
        "      # if angle < -45:\n",
        "      #   angle = -(90 + angle)\n",
        "      # else:\n",
        "      #   angle = -angle\n",
        "      # (h, w) = image.shape[:2]\n",
        "      # center = (w // 2, h // 2)\n",
        "      # M = cv.getRotationMatrix2D(center, angle, 1.0)\n",
        "      # rotated = cv.warpAffine(image, M, (w, h), flags=cv.INTER_CUBIC, borderMode=cv.BORDER_REPLICATE)\n",
        "\n",
        "\n",
        "      # nzCount = np.count_nonzero(rotated)\n",
        "      # print(nzCount)\n",
        "    \n",
        "      plateNumber = plateNumber.upper()\n",
        "\n",
        "      cv.imwrite(f'platesNumbers/{plateNumber}.jpg', img)\n",
        "      txtFile = open(f'platesNumbers/{plateNumber}.txt', \"w\")\n",
        "      txtFile.write(plateNumber)\n",
        "  "
      ],
      "execution_count": null,
      "outputs": []
    },
    {
      "cell_type": "code",
      "metadata": {
        "colab": {
          "base_uri": "https://localhost:8080/"
        },
        "id": "mAST7ncvysKq",
        "outputId": "acf83156-4109-4715-9d51-3f2a63da0520"
      },
      "source": [
        "from google.colab import drive, files\n",
        "drive.mount('/content/drive')\n",
        "!cp -r /content/platesNumbers \"/content/drive/My Drive/CV Project2/platesNumbersWithTxtFiles\"\n",
        "drive.flush_and_unmount()"
      ],
      "execution_count": 14,
      "outputs": [
        {
          "output_type": "stream",
          "text": [
            "Mounted at /content/drive\n"
          ],
          "name": "stdout"
        }
      ]
    },
    {
      "cell_type": "code",
      "metadata": {
        "id": "4JmCp3OoKkAr"
      },
      "source": [
        ""
      ],
      "execution_count": null,
      "outputs": []
    }
  ]
}