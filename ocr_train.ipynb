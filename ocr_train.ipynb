{
  "nbformat": 4,
  "nbformat_minor": 0,
  "metadata": {
    "colab": {
      "name": "Untitled1.ipynb",
      "private_outputs": true,
      "provenance": [],
      "mount_file_id": "1N4gX526mytK3DBCQJ4I1wJV_YJ6hDKRV",
      "authorship_tag": "ABX9TyMtV9tNTgGBjskZ8zP0vhm8",
      "include_colab_link": true
    },
    "kernelspec": {
      "name": "python3",
      "display_name": "Python 3"
    },
    "accelerator": "GPU"
  },
  "cells": [
    {
      "cell_type": "markdown",
      "metadata": {
        "id": "view-in-github",
        "colab_type": "text"
      },
      "source": [
        "<a href=\"https://colab.research.google.com/github/MajdTaweel/cv-project-2/blob/main/ocr_train.ipynb\" target=\"_parent\"><img src=\"https://colab.research.google.com/assets/colab-badge.svg\" alt=\"Open In Colab\"/></a>"
      ]
    },
    {
      "cell_type": "code",
      "metadata": {
        "id": "Q9mJJ161Bnqp"
      },
      "source": [
        "!pip install tensorflow-gpu==1.15"
      ],
      "execution_count": null,
      "outputs": []
    },
    {
      "cell_type": "code",
      "metadata": {
        "id": "QM0wwI74CNJi"
      },
      "source": [
        "!git clone https://github.com/tensorflow/models.git\r\n",
        "!mv models/research/attention_ocr/python python"
      ],
      "execution_count": null,
      "outputs": []
    },
    {
      "cell_type": "code",
      "metadata": {
        "id": "Il745c6yO0Jf"
      },
      "source": [
        "from google.colab import drive\r\n",
        "drive.flush_and_unmount()"
      ],
      "execution_count": null,
      "outputs": []
    },
    {
      "cell_type": "code",
      "metadata": {
        "id": "XdKW9vQ2-DyN"
      },
      "source": [
        "!python /content/attention-ocr/train.py --dataset_name=plates"
      ],
      "execution_count": null,
      "outputs": []
    }
  ]
}